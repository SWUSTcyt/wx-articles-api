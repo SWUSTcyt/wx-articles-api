{
 "cells": [
  {
   "cell_type": "code",
   "execution_count": 1,
   "metadata": {},
   "outputs": [],
   "source": [
    "import requests, json, os, time\n",
    "from dotenv import load_dotenv, find_dotenv\n",
    "\n",
    "# 加载环境变量\n",
    "_ = load_dotenv(find_dotenv())\n",
    "\n",
    "APPID  = os.getenv(\"APPID\")\n",
    "SECRET = os.getenv(\"APPSecret\")"
   ]
  },
  {
   "cell_type": "code",
   "execution_count": 2,
   "metadata": {},
   "outputs": [
    {
     "data": {
      "text/plain": [
       "('wx316a3ce78ed853a3', '176512388b7eb8213f63d18c0dae1ce0')"
      ]
     },
     "execution_count": 2,
     "metadata": {},
     "output_type": "execute_result"
    }
   ],
   "source": [
    "APPID,SECRET"
   ]
  },
  {
   "cell_type": "code",
   "execution_count": 6,
   "metadata": {},
   "outputs": [],
   "source": [
    "def get_access_token():\n",
    "    url = \"https://api.weixin.qq.com/cgi-bin/token\"\n",
    "    params = {\"grant_type\": \"client_credential\", \"appid\": APPID, \"secret\": SECRET}\n",
    "    r = requests.get(url, params=params, timeout=10).json()\n",
    "    if \"access_token\" not in r:          # 关键防护\n",
    "        raise RuntimeError(f\"WX error → {r}\")   # 把 errcode/errmsg 打出来\n",
    "    return r[\"access_token\"]\n"
   ]
  },
  {
   "cell_type": "code",
   "execution_count": 8,
   "metadata": {},
   "outputs": [
    {
     "data": {
      "text/plain": [
       "'92_sFTOzfVIYcmSySggTonqBeUDGJCENJsmPU9gmzJUGSdrQDVbzb7nePZLa8LgcSHshFF4Z-BYs0TztTd5TwgO2mfvDLiNDPI0wO2NU6tXSwYPwEMGYuCwo3bMXskOUHcAHAIOB'"
      ]
     },
     "execution_count": 8,
     "metadata": {},
     "output_type": "execute_result"
    }
   ],
   "source": [
    "# 测试access_token能否正常获取\n",
    "get_access_token()"
   ]
  },
  {
   "cell_type": "code",
   "execution_count": 11,
   "metadata": {},
   "outputs": [],
   "source": [
    "def _parse_one(item):\n",
    "    meta = item.get(\"content\") or {}\n",
    "    ts = meta.get(\"create_time\") or item.get(\"update_time\")\n",
    "    ts_fmt = (\n",
    "        time.strftime(\"%Y-%m-%d %H:%M\", time.localtime(ts))\n",
    "        if ts else \"N/A\"\n",
    "    )\n",
    "    for news in meta.get(\"news_item\", []):\n",
    "        yield {\n",
    "            \"title\": news.get(\"title\", \"\"),\n",
    "            \"url\":   news.get(\"url\", \"\"),\n",
    "            \"digest\": news.get(\"digest\", \"\"),\n",
    "            \"created\": ts_fmt\n",
    "        }\n",
    "\n",
    "def list_published(offset=0, count=20, no_content=0):\n",
    "    ak = get_access_token()\n",
    "    r = requests.post(\n",
    "        f\"https://api.weixin.qq.com/cgi-bin/freepublish/batchget?access_token={ak}\",\n",
    "        json={\"offset\": offset, \"count\": count, \"no_content\": no_content},\n",
    "        timeout=10\n",
    "    ).json()\n",
    "\n",
    "    if \"item\" not in r:\n",
    "        raise RuntimeError(f\"WX error → {r}\")   # 继续沿用你的兜底\n",
    "\n",
    "    articles = []\n",
    "    for item in r[\"item\"]:\n",
    "        articles.extend(_parse_one(item))\n",
    "    return articles\n"
   ]
  },
  {
   "cell_type": "code",
   "execution_count": 12,
   "metadata": {},
   "outputs": [
    {
     "name": "stdout",
     "output_type": "stream",
     "text": [
      "2025-02-05 12:17 deepseek æ¨¡åæ¬å°é¨ç½²æå http://mp.weixin.qq.com/s?__biz=Mzk2NDQ2ODU0OQ==&mid=2247483696&idx=1&sn=0b23bde1d6b2f9c5a9f72bd6725b0b37&chksm=c4724b1af305c20c6ce8d01d1b71cf926a1666c8712e561f2e88e6e15fe029f7c602666dbfae#rd\n"
     ]
    }
   ],
   "source": [
    "if __name__ == \"__main__\":\n",
    "    for art in list_published():\n",
    "        print(art[\"created\"], art[\"title\"], art[\"url\"])"
   ]
  }
 ],
 "metadata": {
  "kernelspec": {
   "display_name": "pytorch_cuda12_0_py310",
   "language": "python",
   "name": "pytorch_cuda12_0_py310"
  },
  "language_info": {
   "codemirror_mode": {
    "name": "ipython",
    "version": 3
   },
   "file_extension": ".py",
   "mimetype": "text/x-python",
   "name": "python",
   "nbconvert_exporter": "python",
   "pygments_lexer": "ipython3",
   "version": "3.10.14"
  }
 },
 "nbformat": 4,
 "nbformat_minor": 2
}
